{
 "cells": [
  {
   "cell_type": "code",
   "execution_count": 2,
   "id": "1d2f65dd",
   "metadata": {},
   "outputs": [
    {
     "name": "stdout",
     "output_type": "stream",
     "text": [
      "Procesando: ./datos_crudos\\poblacion_economicamente_activa_por_sexo_edad.csv\n",
      "Guardado: ./datos_latam\\poblacion_economicamente_activa_por_sexo_edad_sudamerica.csv (26453 filas)\n",
      "Procesando: ./datos_crudos\\salarios_promedio_mensuales_por_sexo.csv\n",
      "Guardado: ./datos_latam\\salarios_promedio_mensuales_por_sexo_sudamerica.csv (1936 filas)\n",
      "Procesando: ./datos_crudos\\tasa_desempleo_por_sexo_edad.csv\n",
      "Guardado: ./datos_latam\\tasa_desempleo_por_sexo_edad_sudamerica.csv (21377 filas)\n",
      "Procesando: ./datos_crudos\\tasa_empleo_informal_por_sexo.csv\n",
      "Guardado: ./datos_latam\\tasa_empleo_informal_por_sexo_sudamerica.csv (438 filas)\n",
      "Procesando: ./datos_crudos\\tasa_empleo_por_sexo_edad.csv\n",
      "Guardado: ./datos_latam\\tasa_empleo_por_sexo_edad_sudamerica.csv (18528 filas)\n"
     ]
    }
   ],
   "source": [
    "import os\n",
    "import glob\n",
    "import pandas as pd\n",
    "\n",
    "dir_origen = \"./datos_crudos\"\n",
    "dir_filtrado = \"./datos_latam\"\n",
    "\n",
    "os.makedirs(dir_filtrado, exist_ok=True)\n",
    "\n",
    "csv_files = glob.glob(os.path.join(dir_origen, \"*.csv\"))\n",
    "\n",
    "paises_sudamerica = [\n",
    "    \"Argentina\", \"Bolivia\", \"Brazil\", \"Chile\", \"Colombia\", \"Ecuador\", \n",
    "    \"Paraguay\", \"Peru\", \"Suriname\", \"Uruguay\", \"Venezuela\", \n",
    "    \"French Guiana\", \"Guyana\"\n",
    "]\n",
    "\n",
    "for csv_lectura in csv_files:\n",
    "    print(f\"Procesando: {csv_lectura}\")\n",
    "    df = pd.read_csv(csv_lectura)\n",
    "    \n",
    "    df_filtrado = df[df[\"ref_area.label\"].isin(paises_sudamerica)]\n",
    "    \n",
    "    nombre_archivo = os.path.splitext(os.path.basename(csv_lectura))[0]\n",
    "    \n",
    "    nuevo_nombre = f\"{nombre_archivo}_sudamerica.csv\"\n",
    "    \n",
    "    ruta_salida = os.path.join(dir_filtrado, nuevo_nombre)\n",
    "    \n",
    "    df_filtrado.to_csv(ruta_salida, index=False)\n",
    "    \n",
    "    print(f\"Guardado: {ruta_salida} ({len(df_filtrado)} filas)\")\n",
    "\n",
    "    "
   ]
  },
  {
   "cell_type": "code",
   "execution_count": 7,
   "id": "94504c5c",
   "metadata": {},
   "outputs": [
    {
     "name": "stdout",
     "output_type": "stream",
     "text": [
      "Analizando: ./datos_sudamerica\\poblacion_economicamente_activa_por_sexo_edad_sudamerica.csv\n",
      "  Usando columna: time\n",
      "  Años encontrados: 1951 - 2024\n",
      "Analizando: ./datos_sudamerica\\salarios_promedio_mensuales_por_sexo_sudamerica.csv\n",
      "  Usando columna: time\n",
      "  Años encontrados: 1982 - 2024\n",
      "Analizando: ./datos_sudamerica\\tasa_desempleo_por_sexo_edad_sudamerica.csv\n",
      "  Usando columna: time\n",
      "  Años encontrados: 1969 - 2024\n",
      "Analizando: ./datos_sudamerica\\tasa_empleo_informal_por_sexo_sudamerica.csv\n",
      "  Usando columna: time\n",
      "  Años encontrados: 2001 - 2024\n",
      "Analizando: ./datos_sudamerica\\tasa_empleo_por_sexo_edad_sudamerica.csv\n",
      "  Usando columna: time\n",
      "  Años encontrados: 1973 - 2024\n",
      "\n",
      "=== RESULTADO FINAL ===\n",
      "Año mínimo en todos los datos: 1951\n",
      "Año máximo en todos los datos: 2024\n",
      "Rango total de años: 74 años\n"
     ]
    }
   ],
   "source": [
    "import pandas as pd\n",
    "import glob\n",
    "import os\n",
    "\n",
    "# Directorio donde están los archivos filtrados de Sudamérica\n",
    "dir_filtrado = \"./datos_sudamerica\"\n",
    "\n",
    "# Obtener todos los archivos CSV de Sudamérica\n",
    "csv_sudamerica = glob.glob(os.path.join(dir_filtrado, \"*.csv\"))\n",
    "\n",
    "años_totales = []\n",
    "\n",
    "for csv_file in csv_sudamerica:\n",
    "    print(f\"Analizando: {csv_file}\")\n",
    "    df = pd.read_csv(csv_file)\n",
    "    \n",
    "    if 'time' in df.columns:\n",
    "        print(f\"  Usando columna: time\")\n",
    "        \n",
    "        años_archivo = df['time'].dropna().astype(str)\n",
    "        \n",
    "        años_numericos = []\n",
    "        for año in años_archivo:\n",
    "            try:\n",
    "                año_str = str(año)[:4]\n",
    "                if año_str.isdigit():\n",
    "                    años_numericos.append(int(año_str))\n",
    "            except:\n",
    "                continue\n",
    "        \n",
    "        if años_numericos:\n",
    "            años_totales.extend(años_numericos)\n",
    "            print(f\"  Años encontrados: {min(años_numericos)} - {max(años_numericos)}\")\n",
    "        else:\n",
    "            print(f\"  No se encontraron años válidos\")\n",
    "    else:\n",
    "        print(f\"  No se encontró columna 'time' en {csv_file}\")\n",
    "\n",
    "if años_totales:\n",
    "    año_minimo = min(años_totales)\n",
    "    año_maximo = max(años_totales)\n",
    "    print(f\"\\n=== RESULTADO FINAL ===\")\n",
    "    print(f\"Año mínimo en todos los datos: {año_minimo}\")\n",
    "    print(f\"Año máximo en todos los datos: {año_maximo}\")\n",
    "    print(f\"Rango total de años: {año_maximo - año_minimo + 1} años\")\n",
    "else:\n",
    "    print(\"No se encontraron datos de años en los archivos\")"
   ]
  }
 ],
 "metadata": {
  "kernelspec": {
   "display_name": "base",
   "language": "python",
   "name": "python3"
  },
  "language_info": {
   "codemirror_mode": {
    "name": "ipython",
    "version": 3
   },
   "file_extension": ".py",
   "mimetype": "text/x-python",
   "name": "python",
   "nbconvert_exporter": "python",
   "pygments_lexer": "ipython3",
   "version": "3.13.2"
  }
 },
 "nbformat": 4,
 "nbformat_minor": 5
}
